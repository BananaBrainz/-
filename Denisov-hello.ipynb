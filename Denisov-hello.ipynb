{
 "cells": [
  {
   "cell_type": "markdown",
   "id": "0a497cfd-7581-4562-b0b2-d91e81fb3e49",
   "metadata": {},
   "source": [
    "# Первая программа на суперкомпьютере"
   ]
  },
  {
   "cell_type": "code",
   "execution_count": 1,
   "id": "0ed09981-bbc7-40e2-a5af-83cf4bd17c80",
   "metadata": {},
   "outputs": [
    {
     "name": "stdout",
     "output_type": "stream",
     "text": [
      "Hello, world!\n"
     ]
    }
   ],
   "source": [
    "print(\"Hello, world!\")"
   ]
  },
  {
   "cell_type": "code",
   "execution_count": null,
   "id": "cb1e9074-20d9-4196-87f3-25ce3e5d5fa3",
   "metadata": {},
   "outputs": [],
   "source": []
  }
 ],
 "metadata": {
  "kernelspec": {
   "display_name": "Python 3 (ipykernel)",
   "language": "python",
   "name": "python3"
  },
  "language_info": {
   "codemirror_mode": {
    "name": "ipython",
    "version": 3
   },
   "file_extension": ".py",
   "mimetype": "text/x-python",
   "name": "python",
   "nbconvert_exporter": "python",
   "pygments_lexer": "ipython3",
   "version": "3.8.12"
  }
 },
 "nbformat": 4,
 "nbformat_minor": 5
}
